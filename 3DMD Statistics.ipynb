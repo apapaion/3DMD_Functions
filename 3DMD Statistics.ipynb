{
 "cells": [
  {
   "cell_type": "code",
   "execution_count": null,
   "metadata": {
    "collapsed": false
   },
   "outputs": [],
   "source": [
    "import numpy as np\n",
    "import menpo.io as mio\n",
    "#import scipy.io as sio\n",
    "from pathlib import Path\n",
    "import os.path\n",
    "import errno\n",
    "#import menpo.shape\n",
    "#%matplotlib inline\n",
    "import re\n",
    "from shutil import copyfile\n",
    "import fnmatch\n",
    "from PIL import Image"
   ]
  },
  {
   "cell_type": "markdown",
   "metadata": {},
   "source": [
    "<b> Choose a directory</b>"
   ]
  },
  {
   "cell_type": "code",
   "execution_count": null,
   "metadata": {
    "collapsed": true
   },
   "outputs": [],
   "source": [
    "mat_contents = sio.loadmat('fatse3.mat')\n",
    "pred=mat_contents.get('pred')"
   ]
  },
  {
   "cell_type": "code",
   "execution_count": null,
   "metadata": {
    "collapsed": true
   },
   "outputs": [],
   "source": [
    "# Function resize bounding box by %percent\n",
    "def resize_bb(x,percent):\n",
    "    width=x[3]-x[1]\n",
    "    height=x[2]-x[0]\n",
    "    print(percent)\n",
    "    width_diff=percent*width\n",
    "    height_diff=percent*height\n",
    "    x[0]=x[0]-height_diff\n",
    "    x[1]=x[1]-width_diff \n",
    "    x[2]=x[2]+height_diff\n",
    "    x[3]=x[3]+width_diff"
   ]
  },
  {
   "cell_type": "code",
   "execution_count": null,
   "metadata": {
    "collapsed": true
   },
   "outputs": [],
   "source": [
    "num_not_detected_pic=0\n",
    "num_not_exist_pic=0\n",
    "num_cropped_pic=0\n",
    "num_mult_detected_pic=0 \n",
    "\n",
    "for indx in range(0,pred.shape[0]-1): \n",
    "    source_filename='../database/original/'+pred[indx][0]['name'][0][0][0] \n",
    "    dest_filename='../database/cropped_faces_larger_margin/'+pred[indx][0]['name'][0][0][0]\n",
    "    if not os.path.exists(os.path.dirname(dest_filename)):\n",
    "        try:\n",
    "            os.makedirs(os.path.dirname(dest_filename))\n",
    "        except OSError as exc: # Guard against race condition\n",
    "            if exc.errno != errno.EEXIST:\n",
    "                raise\n",
    "    source_file = Path(source_filename)\n",
    "    \n",
    "    if source_file.is_file():\n",
    "        x=pred[indx][0]['box'][0][0].flatten()\n",
    "        if (x.shape[0]==4):\n",
    "            img=mio.import_image(source_filename)\n",
    "            if x[0]<0:\n",
    "                x[0]=0\n",
    "                print(indx, source_filename,'Negative values found')\n",
    "            if x[1]<0:\n",
    "                x[1]=0\n",
    "                print(indx, source_filename,'Negative values found')\n",
    "            mio.export_image(img.crop([x[1],x[0]],[x[3],x[2]]),dest_filename,  extension=None,overwrite=True)\n",
    "            num_cropped_pic=num_cropped_pic+1\n",
    "        elif (x.shape[0]==0):\n",
    "            print(indx, source_filename,' picture was not face detected')\n",
    "            num_not_detected_pic=num_not_detected_pic+1\n",
    "            dest_file = Path(dest_filename)\n",
    "            if dest_file.is_file():\n",
    "                os.remove(dest_filename)\n",
    "                print(dest_filename,' was deleted from destination folder') \n",
    "        else: \n",
    "            num_faces=x.shape[0]//4\n",
    "            print(indx, source_filename,' picture was multi-face detected. ',num_faces,' were detected')\n",
    "            num_mult_detected_pic=num_mult_detected_pic+1\n",
    "            img=mio.import_image(source_filename)\n",
    "            parts = dest_filename.split('.jpg')\n",
    "            for jj in range(1,num_faces+1):\n",
    "                if x[4*(jj-1)]<0:\n",
    "                    x[4*(jj-1)]=0\n",
    "                    print(indx, source_filename,'Negative values found')\n",
    "                if x[4*(jj-1)+1]<0:\n",
    "                    x[4*(jj-1)+1]=0\n",
    "                    print(indx, source_filename,'Negative values found')\n",
    "                dest_filename=parts[0]+str(jj)+'.jpg'\n",
    "                mio.export_image(img.crop([x[4*(jj-1)+1],x[4*(jj-1)]],[x[4*(jj-1)+3],x[4*(jj-1)+2]]),dest_filename,  extension=None,overwrite=True)\n",
    "    else:\n",
    "        print('File ',source_filename,' doesn''t exist')\n",
    "        num_not_exist_pic=num_not_exist_pic+1\n",
    "print('Num of single face decteted pic: ', num_cropped_pic )\n",
    "print('\\n Num of not decteted pic: ', num_not_detected_pic)\n",
    "print('\\n Num of not exist pic: ', num_not_exist_pic)\n",
    "print('\\n Num of multi face detected: ', num_mult_detected_pic)"
   ]
  },
  {
   "cell_type": "code",
   "execution_count": null,
   "metadata": {
    "collapsed": true
   },
   "outputs": [],
   "source": [
    "num_not_detected_pic=0\n",
    "num_not_exist_pic=0\n",
    "num_cropped_pic=0\n",
    "num_mult_detected_pic=0 \n",
    "\n",
    "perc_increase=0.4 \n",
    "\n",
    "\n",
    "for indx in range(0,pred.shape[0]-1): \n",
    "    source_filename='../database/original/'+pred[indx][0]['name'][0][0][0] \n",
    "    dest_filename='../database/cropped2/'+pred[indx][0]['name'][0][0][0]\n",
    "    check_filename='../database/cropped/'+pred[indx][0]['name'][0][0][0]\n",
    "    if not os.path.exists(os.path.dirname(dest_filename)):\n",
    "        try:\n",
    "            os.makedirs(os.path.dirname(dest_filename))\n",
    "        except OSError as exc: # Guard against race condition\n",
    "            if exc.errno != errno.EEXIST:\n",
    "                raise\n",
    "    source_file = Path(source_filename)\n",
    "    \n",
    "    if source_file.is_file():\n",
    "        x=pred[indx][0]['box'][0][0].flatten()\n",
    "        if (x.shape[0]==4):\n",
    "#             Increase by perc_increase% width and height\n",
    "            resize_bb(x,perc_increase)            \n",
    "            img=mio.import_image(source_filename)\n",
    "            if x[0]<0:\n",
    "                x[0]=0\n",
    "                print(indx, source_filename,'Negative values found')\n",
    "            if x[1]<0:\n",
    "                x[1]=0\n",
    "                print(indx, source_filename,'Negative values found')\n",
    "            mio.export_image(img.crop([x[1],x[0]],[x[3],x[2]]),dest_filename,  extension=None,overwrite=True)\n",
    "            num_cropped_pic=num_cropped_pic+1\n",
    "        elif (x.shape[0]==0):\n",
    "            print(indx, source_filename,' picture was not face detected')\n",
    "            num_not_detected_pic=num_not_detected_pic+1\n",
    "            dest_file = Path(dest_filename)\n",
    "            if dest_file.is_file():\n",
    "                os.remove(dest_filename)\n",
    "                print(dest_filename,' was deleted from destination folder') \n",
    "        else: \n",
    "            num_faces=x.shape[0]//4\n",
    "            print(indx, source_filename,' picture was multi-face detected. ',num_faces,' were detected')\n",
    "            num_mult_detected_pic=num_mult_detected_pic+1\n",
    "            img=mio.import_image(source_filename)\n",
    "            parts = dest_filename.split('.jpg')\n",
    "#             parts2 = check_filename.split('.jpg')\n",
    "            for jj in range(1,num_faces+1):\n",
    "                if  Path(check_filename.split('.jpg')[0]+str(jj)+('.jpg')).is_file():\n",
    "    #           Increase by perc_increase% width and height\n",
    "                    resize_bb(x[4*(jj-1),4*(jj-1)+3],perc_increase)\n",
    "#                     width=x[4*(jj-1)+3]-x[4*(jj-1)+1]\n",
    "#                     height=x[4*(jj-1)+2]-x[4*(jj-1)]\n",
    "#                     width_diff=perc_increase*width\n",
    "#                     height_diff=perc_increase*height\n",
    "#                     x[4*(jj-1)]=x[4*(jj-1)]-height_diff\n",
    "#                     x[4*(jj-1)+1]=x[4*(jj-1)+1]-width_diff \n",
    "#                     x[4*(jj-1)+2]=x[4*(jj-1)+2]+height_diff\n",
    "#                     x[4*(jj-1)+3]=x[4*(jj-1)+3]+width_diff\n",
    "\n",
    "                    if x[4*(jj-1)]<0:\n",
    "                        x[4*(jj-1)]=0\n",
    "                        print(indx, source_filename,'Negative values found')\n",
    "                    if x[4*(jj-1)+1]<0:\n",
    "                        x[4*(jj-1)+1]=0\n",
    "                        print(indx, source_filename,'Negative values found')\n",
    "                    dest_filename=parts[0]+str(jj)+'.jpg'\n",
    "                    mio.export_image(img.crop([x[4*(jj-1)+1],x[4*(jj-1)]],[x[4*(jj-1)+3],x[4*(jj-1)+2]]),dest_filename,  extension=None,overwrite=True)\n",
    "    else:\n",
    "        print('File ',source_filename,' doesn''t exist')\n",
    "        num_not_exist_pic=num_not_exist_pic+1\n",
    "print('Num of single face detected pic: ', num_cropped_pic )\n",
    "print('\\n Num of not detected pic: ', num_not_detected_pic)\n",
    "print('\\n Num of not exist pic: ', num_not_exist_pic)\n",
    "print('\\n Num of multi face detected: ', num_mult_detected_pic)"
   ]
  },
  {
   "cell_type": "code",
   "execution_count": null,
   "metadata": {
    "collapsed": true
   },
   "outputs": [],
   "source": [
    "print(check_filename.split('.jpg')[0]+str(jj)+('.jpg'))"
   ]
  },
  {
   "cell_type": "code",
   "execution_count": null,
   "metadata": {
    "collapsed": true
   },
   "outputs": [],
   "source": [
    "x=input()\n",
    "print(x)"
   ]
  },
  {
   "cell_type": "code",
   "execution_count": null,
   "metadata": {
    "collapsed": true
   },
   "outputs": [],
   "source": [
    "indx=120\n",
    "source_filename='../database/original/'+pred[indx][0]['name'][0][0][0]    \n",
    "check_filename='../database/cropped/'+pred[indx][0]['name'][0][0][0]\n",
    "\n",
    "\n",
    "parts = check_filename.split('.jpg')\n",
    "jj=int(parts[0][-1])\n",
    "print(jj)\n",
    "print(check_filename)\n",
    "print('Synthesized',parts[0][0:-1]+'1'+'.jpg')\n",
    "print(source_filename)\n",
    "img=mio.import_image(source_filename)\n",
    "img.view()\n",
    "x=pred[indx][0]['box'][0][0].flatten()\n",
    "print(x.shape[0])\n",
    "bb=menpo.shape.bounding_box([x[1],x[0]],[x[3],x[2]])\n",
    "bb.view()\n",
    "width=x[3]-x[1]\n",
    "height=x[2]-x[0]\n",
    "perc_increase=0.15 \n",
    "\n",
    "width_diff=perc_increase*width\n",
    "height_diff=perc_increase*height\n",
    "\n",
    "bb3=menpo.shape.bounding_box([x[1]-width_diff,x[0]-height_diff],[x[3]+width_diff,x[2]+height_diff])\n",
    "bb3.view()\n",
    "bb2=menpo.shape.bounding_box([x[5],x[4]],[x[7],x[6]])\n",
    "bb2.view()\n",
    "print(x.shape[0]//2)\n",
    "print(x.shape[0]%2)\n",
    "parts = source_filename.split('.jpg')\n",
    "print(parts)\n",
    "source_filename2=parts[0]+str(1)+'.jpg'\n",
    "print(source_filename2)"
   ]
  },
  {
   "cell_type": "code",
   "execution_count": 115,
   "metadata": {
    "collapsed": true
   },
   "outputs": [],
   "source": [
    "from time import time"
   ]
  },
  {
   "cell_type": "code",
   "execution_count": 119,
   "metadata": {
    "collapsed": false
   },
   "outputs": [],
   "source": [
    "e = time() "
   ]
  },
  {
   "cell_type": "code",
   "execution_count": 124,
   "metadata": {
    "collapsed": false
   },
   "outputs": [
    {
     "data": {
      "text/plain": [
       "10.112269163131714"
      ]
     },
     "execution_count": 124,
     "metadata": {},
     "output_type": "execute_result"
    }
   ],
   "source": [
    "time() - e"
   ]
  },
  {
   "cell_type": "code",
   "execution_count": 125,
   "metadata": {
    "collapsed": false,
    "scrolled": true
   },
   "outputs": [
    {
     "name": "stdout",
     "output_type": "stream",
     "text": [
      "11_06_2017/ ['03696', '03717', '03738', '03676', '03677', '03678', '03679', '03680', '03681', '036811', '03682', '03683', '03684', '03685', '03686', '03687', '03688', '03689', '03690', '03691', '03692', '03693', '03694', '03695', '03697', '03698', '03699', '03700', '03701', '03702', '03703', '037031', '03704', '03705', '03706', '03707', '03708', '03709', '03710', '03711', '03712', '03713', '03714', '03715', '03716', '03719', '037191', '03720', '03721', '03722', '03723', '03724', '03725', '03726', '03727', '03728', '03729', '03730', '03731', '03732', '03733', '03734', '03735', '03736', '03737', '03739', '03740', '03741', '03742', '03744', '03745', '03746', '03747', '03748', '03749', '037491', '03750', '03751', '03752', '03753', '03754', '03755', '03756', '03757', '03758', '03759', '03760', '037601', '03761', '03762', '03763'] []\n",
      "0.16422605514526367\n",
      "0.14832758903503418\n",
      "0.14598369598388672\n",
      "0.14990234375\n",
      "0.14862322807312012\n",
      "0.15472674369812012\n",
      "0.15114092826843262\n",
      "0.15032458305358887\n",
      "0.14944219589233398\n",
      "0.1479172706604004\n",
      "0.1542043685913086\n",
      "0.14633727073669434\n",
      "0.14844894409179688\n",
      "0.15158510208129883\n",
      "0.1549363136291504\n",
      "0.14893031120300293\n",
      "0.15012717247009277\n",
      "0.15202832221984863\n",
      "0.14990520477294922\n",
      "0.14967703819274902\n",
      "0.14414119720458984\n",
      "0.14790868759155273\n",
      "0.14861035346984863\n",
      "0.1503126621246338\n",
      "0.15146207809448242\n",
      "0.14779973030090332\n",
      "0.14664483070373535\n",
      "0.14638495445251465\n",
      "0.1411581039428711\n",
      "0.14728116989135742\n",
      "0.14450311660766602\n",
      "0.15252161026000977\n",
      "0.15744757652282715\n"
     ]
    },
    {
     "ename": "KeyboardInterrupt",
     "evalue": "",
     "output_type": "error",
     "traceback": [
      "\u001b[1;31m---------------------------------------------------------------------------\u001b[0m",
      "\u001b[1;31mKeyboardInterrupt\u001b[0m                         Traceback (most recent call last)",
      "\u001b[1;32m<ipython-input-125-afdb666a24a5>\u001b[0m in \u001b[0;36m<module>\u001b[1;34m()\u001b[0m\n\u001b[0;32m     39\u001b[0m                     \u001b[0mos\u001b[0m\u001b[1;33m.\u001b[0m\u001b[0mmakedirs\u001b[0m\u001b[1;33m(\u001b[0m\u001b[0mnew_path\u001b[0m\u001b[1;33m)\u001b[0m\u001b[1;33m\u001b[0m\u001b[0m\n\u001b[0;32m     40\u001b[0m                 \u001b[0mim\u001b[0m \u001b[1;33m=\u001b[0m \u001b[0mImage\u001b[0m\u001b[1;33m.\u001b[0m\u001b[0mopen\u001b[0m\u001b[1;33m(\u001b[0m\u001b[0mpath\u001b[0m\u001b[1;33m+\u001b[0m\u001b[1;34m'/'\u001b[0m\u001b[1;33m+\u001b[0m\u001b[0mname\u001b[0m\u001b[1;33m)\u001b[0m\u001b[1;33m\u001b[0m\u001b[0m\n\u001b[1;32m---> 41\u001b[1;33m                 \u001b[0mim\u001b[0m\u001b[1;33m.\u001b[0m\u001b[0mthumbnail\u001b[0m\u001b[1;33m(\u001b[0m\u001b[0msize\u001b[0m\u001b[1;33m,\u001b[0m \u001b[0mImage\u001b[0m\u001b[1;33m.\u001b[0m\u001b[0mANTIALIAS\u001b[0m\u001b[1;33m)\u001b[0m\u001b[1;33m\u001b[0m\u001b[0m\n\u001b[0m\u001b[0;32m     42\u001b[0m \u001b[1;33m\u001b[0m\u001b[0m\n\u001b[0;32m     43\u001b[0m                 \u001b[0mim\u001b[0m\u001b[1;33m.\u001b[0m\u001b[0msave\u001b[0m\u001b[1;33m(\u001b[0m\u001b[0mnew_path\u001b[0m\u001b[1;33m+\u001b[0m\u001b[1;34m'/'\u001b[0m\u001b[1;33m+\u001b[0m\u001b[0mnew_name\u001b[0m\u001b[1;33m[\u001b[0m\u001b[1;36m0\u001b[0m\u001b[1;33m]\u001b[0m\u001b[1;33m+\u001b[0m\u001b[1;34m'.'\u001b[0m\u001b[1;33m+\u001b[0m\u001b[0mnew_name\u001b[0m\u001b[1;33m[\u001b[0m\u001b[1;36m1\u001b[0m\u001b[1;33m]\u001b[0m\u001b[1;33m+\u001b[0m\u001b[1;34m'.jpg'\u001b[0m\u001b[1;33m,\u001b[0m\u001b[0mquality\u001b[0m\u001b[1;33m=\u001b[0m\u001b[1;36m90\u001b[0m\u001b[1;33m)\u001b[0m\u001b[1;33m\u001b[0m\u001b[0m\n",
      "\u001b[1;32m/vol/atlas/homes/thanos/Miniconda/lib/python3.5/site-packages/PIL/Image.py\u001b[0m in \u001b[0;36mthumbnail\u001b[1;34m(self, size, resample)\u001b[0m\n\u001b[0;32m   1798\u001b[0m         \u001b[0mself\u001b[0m\u001b[1;33m.\u001b[0m\u001b[0mdraft\u001b[0m\u001b[1;33m(\u001b[0m\u001b[1;32mNone\u001b[0m\u001b[1;33m,\u001b[0m \u001b[0msize\u001b[0m\u001b[1;33m)\u001b[0m\u001b[1;33m\u001b[0m\u001b[0m\n\u001b[0;32m   1799\u001b[0m \u001b[1;33m\u001b[0m\u001b[0m\n\u001b[1;32m-> 1800\u001b[1;33m         \u001b[0mim\u001b[0m \u001b[1;33m=\u001b[0m \u001b[0mself\u001b[0m\u001b[1;33m.\u001b[0m\u001b[0mresize\u001b[0m\u001b[1;33m(\u001b[0m\u001b[0msize\u001b[0m\u001b[1;33m,\u001b[0m \u001b[0mresample\u001b[0m\u001b[1;33m)\u001b[0m\u001b[1;33m\u001b[0m\u001b[0m\n\u001b[0m\u001b[0;32m   1801\u001b[0m \u001b[1;33m\u001b[0m\u001b[0m\n\u001b[0;32m   1802\u001b[0m         \u001b[0mself\u001b[0m\u001b[1;33m.\u001b[0m\u001b[0mim\u001b[0m \u001b[1;33m=\u001b[0m \u001b[0mim\u001b[0m\u001b[1;33m.\u001b[0m\u001b[0mim\u001b[0m\u001b[1;33m\u001b[0m\u001b[0m\n",
      "\u001b[1;32m/vol/atlas/homes/thanos/Miniconda/lib/python3.5/site-packages/PIL/Image.py\u001b[0m in \u001b[0;36mresize\u001b[1;34m(self, size, resample)\u001b[0m\n\u001b[0;32m   1546\u001b[0m             \u001b[1;32mreturn\u001b[0m \u001b[0mself\u001b[0m\u001b[1;33m.\u001b[0m\u001b[0mconvert\u001b[0m\u001b[1;33m(\u001b[0m\u001b[1;34m'RGBa'\u001b[0m\u001b[1;33m)\u001b[0m\u001b[1;33m.\u001b[0m\u001b[0mresize\u001b[0m\u001b[1;33m(\u001b[0m\u001b[0msize\u001b[0m\u001b[1;33m,\u001b[0m \u001b[0mresample\u001b[0m\u001b[1;33m)\u001b[0m\u001b[1;33m.\u001b[0m\u001b[0mconvert\u001b[0m\u001b[1;33m(\u001b[0m\u001b[1;34m'RGBA'\u001b[0m\u001b[1;33m)\u001b[0m\u001b[1;33m\u001b[0m\u001b[0m\n\u001b[0;32m   1547\u001b[0m \u001b[1;33m\u001b[0m\u001b[0m\n\u001b[1;32m-> 1548\u001b[1;33m         \u001b[1;32mreturn\u001b[0m \u001b[0mself\u001b[0m\u001b[1;33m.\u001b[0m\u001b[0m_new\u001b[0m\u001b[1;33m(\u001b[0m\u001b[0mself\u001b[0m\u001b[1;33m.\u001b[0m\u001b[0mim\u001b[0m\u001b[1;33m.\u001b[0m\u001b[0mresize\u001b[0m\u001b[1;33m(\u001b[0m\u001b[0msize\u001b[0m\u001b[1;33m,\u001b[0m \u001b[0mresample\u001b[0m\u001b[1;33m)\u001b[0m\u001b[1;33m)\u001b[0m\u001b[1;33m\u001b[0m\u001b[0m\n\u001b[0m\u001b[0;32m   1549\u001b[0m \u001b[1;33m\u001b[0m\u001b[0m\n\u001b[0;32m   1550\u001b[0m     \u001b[1;32mdef\u001b[0m \u001b[0mrotate\u001b[0m\u001b[1;33m(\u001b[0m\u001b[0mself\u001b[0m\u001b[1;33m,\u001b[0m \u001b[0mangle\u001b[0m\u001b[1;33m,\u001b[0m \u001b[0mresample\u001b[0m\u001b[1;33m=\u001b[0m\u001b[0mNEAREST\u001b[0m\u001b[1;33m,\u001b[0m \u001b[0mexpand\u001b[0m\u001b[1;33m=\u001b[0m\u001b[1;36m0\u001b[0m\u001b[1;33m)\u001b[0m\u001b[1;33m:\u001b[0m\u001b[1;33m\u001b[0m\u001b[0m\n",
      "\u001b[1;31mKeyboardInterrupt\u001b[0m: "
     ]
    }
   ],
   "source": [
    "root = '11_06_2017/'\n",
    "dest='tmp3'\n",
    "\n",
    "num_images=0\n",
    "num_obj=0\n",
    "num_bmp=0\n",
    "num_images_subj=[]\n",
    "num_files=0\n",
    "num_subj=1\n",
    "num_frames_per_subj=[] \n",
    "min_ages=[]\n",
    "max_ages=[]\n",
    "names=[]\n",
    "num_imgs=[]\n",
    "temp_name=[]\n",
    "names_files=[]\n",
    "num_copied=0\n",
    "# size= 1014, 1024 \n",
    "size= 640, 480\n",
    "ilevel=1\n",
    "\n",
    "for path, dirs, files in os.walk(root):\n",
    "    if ilevel==1:\n",
    "        subjects=dirs\n",
    "        print(path,dirs,files)        \n",
    "    ilevel=ilevel+1\n",
    "    for name in files:\n",
    "        if fnmatch.fnmatch(name, '*.bmp'):\n",
    "            num_images=num_images+1\n",
    "    if 'meshes' in path.split('/')[-1]:\n",
    "        for name in files:\n",
    "            e = time()\n",
    "            if fnmatch.fnmatch(name, '*.bmp'):\n",
    "                \n",
    "                tmp_name=name.split('/')\n",
    "                new_name=tmp_name[-1].split('.')\n",
    "                new_path=dest+'/'+new_name[0]\n",
    "                if not os.path.exists(new_path):\n",
    "                    os.makedirs(new_path)\n",
    "                im = Image.open(path+'/'+name)\n",
    "                im.thumbnail(size, Image.ANTIALIAS)\n",
    "                \n",
    "                im.save(new_path+'/'+new_name[0]+'.'+new_name[1]+'.jpg',quality=90)\n",
    "                num_bmp=num_bmp+1\n",
    "                print(time() - e)\n",
    "            if fnmatch.fnmatch(name, '*.obj'):\n",
    "                num_obj=num_obj+1\n",
    "        num_frames_per_subj.append(num_obj)\n",
    "        num_images_subj.append(num_bmp)\n",
    "        num_obj=0\n",
    "        num_bmp=0\n",
    "\n",
    "print(len(subjects),ilevel,num_images,num_obj)"
   ]
  },
  {
   "cell_type": "code",
   "execution_count": 97,
   "metadata": {
    "collapsed": false
   },
   "outputs": [],
   "source": [
    "frame_id = im.path.stem"
   ]
  },
  {
   "cell_type": "code",
   "execution_count": 108,
   "metadata": {
    "collapsed": false
   },
   "outputs": [],
   "source": [
    " path =  Path('tmp') / subject_id / im.path.with_suffix('.jpg').name"
   ]
  },
  {
   "cell_type": "code",
   "execution_count": 107,
   "metadata": {
    "collapsed": false
   },
   "outputs": [
    {
     "data": {
      "text/plain": [
       "'03676'"
      ]
     },
     "execution_count": 107,
     "metadata": {},
     "output_type": "execute_result"
    }
   ],
   "source": []
  },
  {
   "cell_type": "code",
   "execution_count": 3,
   "metadata": {
    "collapsed": false
   },
   "outputs": [],
   "source": [
    "import menpo.io as mio\n",
    "\n",
    "from menpo.visualize import print_progress\n",
    "from pathlib import Path\n",
    "\n",
    "def process_image(im):\n",
    "    im = im.rescale_to_diagonal(700)\n",
    "    subject_id = im.path.stem.split('.')[0]\n",
    "    path =  Path('tmp') / subject_id / im.path.with_suffix('.jpg').name\n",
    "    \n",
    "    try:\n",
    "        mio.export_image(im, path, overwrite=True)\n",
    "    except:\n",
    "        path.parent.mkdir(exist_ok=True, parents=True)\n",
    "        mio.export_image(im, path)\n",
    "\n",
    "# for im in print_progress(mio.import_images('/media/ap112/Seagate Expansion Drive/11_06_2017/**/meshes/*.bmp')):\n"
   ]
  },
  {
   "cell_type": "code",
   "execution_count": 5,
   "metadata": {
    "collapsed": false
   },
   "outputs": [
    {
     "data": {
      "text/plain": [
       "<multiprocessing.pool.MapResult at 0x7fa431f9e320>"
      ]
     },
     "execution_count": 5,
     "metadata": {},
     "output_type": "execute_result"
    }
   ],
   "source": [
    "from multiprocessing import Pool\n",
    "\n",
    "pool = Pool(4)\n",
    "\n",
    "pool.map_async(process_image, mio.import_images('/media/ap112/Seagate Expansion Drive/11_06_2017/**/meshes/*.bmp'))"
   ]
  },
  {
   "cell_type": "code",
   "execution_count": 4,
   "metadata": {
    "collapsed": false
   },
   "outputs": [
    {
     "data": {
      "text/plain": [
       "<multiprocessing.pool.Pool at 0x7fa57c1466a0>"
      ]
     },
     "execution_count": 4,
     "metadata": {},
     "output_type": "execute_result"
    }
   ],
   "source": [
    "pool.map_async()"
   ]
  },
  {
   "cell_type": "code",
   "execution_count": null,
   "metadata": {
    "collapsed": false
   },
   "outputs": [],
   "source": [
    "unique_names, unique_counts = np.unique(names3,return_counts=True)\n",
    "# unique_names=np.array(unique_names) \n",
    "# unique_counts=np.array(unique_counts)\n",
    "duplicate_names= unique_names[unique_counts>1]\n",
    "# names2==duplicate_names[0]\n",
    "# names.index(unique_names[0])\n",
    "# indexes=np.where(names3==duplicate_names[0])\n",
    "# print(duplicate_names)\n",
    "# print(unique_counts[unique_counts>1])\n",
    "print(len(unique_names),names3.shape)\n",
    "print(names3)"
   ]
  }
 ],
 "metadata": {
  "anaconda-cloud": {},
  "kernelspec": {
   "display_name": "Python 3",
   "language": "python",
   "name": "python3"
  },
  "language_info": {
   "codemirror_mode": {
    "name": "ipython",
    "version": 3
   },
   "file_extension": ".py",
   "mimetype": "text/x-python",
   "name": "python",
   "nbconvert_exporter": "python",
   "pygments_lexer": "ipython3",
   "version": "3.5.2"
  }
 },
 "nbformat": 4,
 "nbformat_minor": 1
}
